{
  "nbformat": 4,
  "nbformat_minor": 0,
  "metadata": {
    "colab": {
      "name": " Fundamentals of Computational Intelligence Project1.ipynb",
      "provenance": [],
      "collapsed_sections": [
        "MAJOq9xsU5zp",
        "QGDE5YLxVII4",
        "1lEndgOZVQSU",
        "cXrM-6IDVaMs",
        "--GUmiwNVg9w"
      ],
      "toc_visible": true
    },
    "kernelspec": {
      "name": "python3",
      "display_name": "Python 3"
    },
    "language_info": {
      "name": "python"
    },
    "accelerator": "GPU"
  },
  "cells": [
    {
      "cell_type": "markdown",
      "source": [
        "# **First Step: Data collection, data visualization and preprocessing**"
      ],
      "metadata": {
        "id": "MAJOq9xsU5zp"
      }
    },
    {
      "cell_type": "markdown",
      "source": [
        "First we download the data using the command below"
      ],
      "metadata": {
        "id": "1S_aqmHhzWc5"
      }
    },
    {
      "cell_type": "code",
      "execution_count": 1,
      "metadata": {
        "id": "thZ7MAog1j9Q",
        "colab": {
          "base_uri": "https://localhost:8080/"
        },
        "outputId": "e53ece98-c4d4-4ada-eeed-492ec63b2f28"
      },
      "outputs": [
        {
          "output_type": "stream",
          "name": "stdout",
          "text": [
            "/usr/local/lib/python3.7/dist-packages/gdown/cli.py:131: FutureWarning: Option `--id` was deprecated in version 4.3.1 and will be removed in 5.0. You don't need to pass it anymore to use a file ID.\n",
            "  category=FutureWarning,\n",
            "Downloading...\n",
            "From: https://drive.google.com/uc?id=1Y1vgzPvMeVcXSxDfOlCVia7wsU7p8M6g\n",
            "To: /content/CIFAR10.tar.gz\n",
            "100% 19.8M/19.8M [00:00<00:00, 150MB/s]\n"
          ]
        }
      ],
      "source": [
        "!gdown --id 1Y1vgzPvMeVcXSxDfOlCVia7wsU7p8M6g -O CIFAR10.tar.gz\n",
        "!tar xzf CIFAR10.tar.gz\n"
      ]
    },
    {
      "cell_type": "markdown",
      "source": [
        "importing the required libraries"
      ],
      "metadata": {
        "id": "Pwmx2WAyzdQf"
      }
    },
    {
      "cell_type": "code",
      "source": [
        "import numpy as np\n",
        "import matplotlib.pyplot as plt\n",
        "import os\n",
        "import random\n",
        "import time\n"
      ],
      "metadata": {
        "id": "WOYjr98G3nqx"
      },
      "execution_count": 2,
      "outputs": []
    },
    {
      "cell_type": "markdown",
      "source": [
        "**Function explanation**:\\\n",
        "reproducible_random : gets a seed and a numpy array and randomizes the given data with the given seed\\\n",
        "rgb2gray : turns the given data from an rgb image to a gray one\\\n",
        "preprocess_image : normalizes the given data and randomizes both the given images and labels in a similar way\\\n",
        "read_data : reads all datas in the specified folder (the classes array) and also generates an one-hot encoding for labels"
      ],
      "metadata": {
        "id": "Wji29mqYzkP-"
      }
    },
    {
      "cell_type": "code",
      "source": [
        "def reproducible_random(seed, data):\n",
        "    np.random.seed(seed)\n",
        "    np.random.shuffle(data)\n",
        "    return data\n",
        "\n",
        "\n",
        "def rgb2gray(rgb):\n",
        "    r, g, b = rgb[:, :, :, 0], rgb[:, :, :, 1], rgb[:, :, :, 2]\n",
        "    gray = 0.2989 * r + 0.5870 * g + 0.1140 * b\n",
        "    return gray\n",
        "\n",
        "\n",
        "def preprocess_image(images, labels):\n",
        "    images = rgb2gray(images)\n",
        "    images /= 255\n",
        "    images = np.reshape(images, (-1, 1024, 1))\n",
        "    seed = int(random.random() * 100000000)\n",
        "    images = reproducible_random(seed, images)\n",
        "    labels = reproducible_random(seed, labels)\n",
        "    return images, labels\n",
        "\n",
        "\n",
        "def read_data(path, size):\n",
        "    classes = [\"/cat\", \"/bird\", \"/automobile\", \"/airplane\"]\n",
        "    data_set = np.zeros((size, 32, 32, 3))\n",
        "    one_hot = np.zeros((size, 4))\n",
        "    index = 0\n",
        "    for c in classes:\n",
        "        for filename in os.listdir(path + c):\n",
        "            image = plt.imread(path + c + \"/\" + filename)\n",
        "            if image is not None:\n",
        "                data_set[index] = image\n",
        "\n",
        "                # initializing the labels\n",
        "                if c == \"/cat\":\n",
        "                    one_hot[index] = [1, 0, 0, 0]\n",
        "                elif c == \"/bird\":\n",
        "                    one_hot[index] = [0, 1, 0, 0]\n",
        "                elif c == \"/automobile\":\n",
        "                    one_hot[index] = [0, 0, 1, 0]\n",
        "                elif c == \"/airplane\":\n",
        "                    one_hot[index] = [0, 0, 0, 1]\n",
        "                index += 1\n",
        "    return data_set, np.reshape(one_hot, (-1, 4, 1))\n"
      ],
      "metadata": {
        "id": "Q9Sansxxtbdg"
      },
      "execution_count": 3,
      "outputs": []
    },
    {
      "cell_type": "code",
      "source": [
        "test_images = np.zeros((4000, 32, 32, 3))\n",
        "test_labels = np.zeros((4000, 4))\n",
        "train_images = np.zeros((20000, 32, 32, 3))\n",
        "train_labels = np.zeros((20000, 4))\n",
        "\n",
        "test_images, test_labels = read_data(\"CIFAR10/test\", 4000)\n",
        "train_images, train_labels = read_data(\"CIFAR10/train\", 20000)\n",
        "train_images, train_labels = preprocess_image(train_images, train_labels)\n",
        "test_images, test_labels = preprocess_image(test_images, test_labels)"
      ],
      "metadata": {
        "id": "1A1q4pmoyel0"
      },
      "execution_count": 4,
      "outputs": []
    },
    {
      "cell_type": "markdown",
      "source": [
        "# **Second Step: Feedforward**"
      ],
      "metadata": {
        "id": "QGDE5YLxVII4"
      }
    },
    {
      "cell_type": "markdown",
      "source": [
        "for the given weights and biases the function starts to traverese the neural network layer by layer (the given weights are random at first and biases are also all zero)"
      ],
      "metadata": {
        "id": "vUrhFOX9VNhQ"
      }
    },
    {
      "cell_type": "code",
      "source": [
        "def sigmoid(x):\n",
        "    return 1 / (1 + np.exp(-x))\n",
        "\n",
        "\n",
        "def weights_and_biases_generator():\n",
        "    weights = []\n",
        "    biases = []\n",
        "    weights.append(np.random.rand(16, 1024) * 2 - 1)\n",
        "    weights.append(np.random.rand(16, 16) * 2 - 1)\n",
        "    weights.append(np.random.rand(4, 16) * 2 - 1)\n",
        "    biases.append(np.zeros((16, 1)))\n",
        "    biases.append(np.zeros((16, 1)))\n",
        "    biases.append(np.zeros((4, 1)))\n",
        "    return weights, biases\n",
        "\n",
        "\n",
        "def feed_forward(images, weights, biases):\n",
        "    hidden_layers_input = []\n",
        "    hidden_layers_output = []\n",
        "    hidden_layers_input.append(np.dot(weights[0], images) + biases[0])  # (16, 1)\n",
        "    hidden_layers_output.append(sigmoid(hidden_layers_input[0]))\n",
        "    hidden_layers_input.append(np.dot(weights[1], hidden_layers_output[0]) + biases[1])  # (16, 1)\n",
        "    hidden_layers_output.append(sigmoid(hidden_layers_input[1]))\n",
        "    hidden_layers_input.append(np.dot(weights[2], hidden_layers_output[1]) + biases[2])  # (4, 1)\n",
        "    hidden_layers_output.append(sigmoid(hidden_layers_input[2]))\n",
        "    return [images] + hidden_layers_input, [images] + hidden_layers_output"
      ],
      "metadata": {
        "id": "_LmjDzvctjk0"
      },
      "execution_count": 5,
      "outputs": []
    },
    {
      "cell_type": "code",
      "source": [
        "weights, biases = weights_and_biases_generator()\n",
        "correct = 0\n",
        "for i in range(200):\n",
        "    trash, output = feed_forward(train_images[i], weights, biases)\n",
        "    if np.argmax(output[3]) == np.argmax(train_labels[i]):\n",
        "        correct += 1\n",
        "print(\"Accuracy:\")\n",
        "print(correct / 200)"
      ],
      "metadata": {
        "colab": {
          "base_uri": "https://localhost:8080/"
        },
        "id": "E5kRWwyHWjPm",
        "outputId": "13564622-cdb0-4c22-bbbf-c8dced24da50"
      },
      "execution_count": 6,
      "outputs": [
        {
          "output_type": "stream",
          "name": "stdout",
          "text": [
            "Accuracy:\n",
            "0.3\n"
          ]
        }
      ]
    },
    {
      "cell_type": "markdown",
      "source": [
        "# **Third Step: Backpropagation (using for-loops)**"
      ],
      "metadata": {
        "id": "1lEndgOZVQSU"
      }
    },
    {
      "cell_type": "markdown",
      "source": [
        "First we need some funcions such as squared error and derivative of it, sigmoid and derivative of it and zeros_generator(used to create base numpy arrays for dw, db, grad_w , grad_b)"
      ],
      "metadata": {
        "id": "y4HMlffeVUeQ"
      }
    },
    {
      "cell_type": "code",
      "source": [
        "def squared_error(predicted_labels, correct_labels):\n",
        "    return np.sum((predicted_labels - correct_labels) ** 2)\n",
        "\n",
        "\n",
        "def derivative_squared_error(predicted_labels, correct_labels):\n",
        "    return 2 * (predicted_labels - correct_labels)\n",
        "\n",
        "\n",
        "def sigmoid_prime(x):\n",
        "    return sigmoid(x) * (1 - sigmoid(x))\n",
        "\n",
        "\n",
        "def zeros_generator():\n",
        "    x = []\n",
        "    y = []\n",
        "    x.append(np.zeros((16, 1024)))\n",
        "    x.append(np.zeros((16, 16)))\n",
        "    x.append(np.zeros((4, 16)))\n",
        "    y.append(np.zeros((16, 1)))\n",
        "    y.append(np.zeros((16, 1)))\n",
        "    y.append(np.zeros((4, 1)))\n",
        "    return x, y\n",
        "\n",
        "\n",
        "def create_plot(arr):\n",
        "    plt.plot(arr)\n",
        "    plt.show()"
      ],
      "metadata": {
        "id": "tPIlaC2XrXSZ"
      },
      "execution_count": 7,
      "outputs": []
    },
    {
      "cell_type": "markdown",
      "source": [
        "The main SGD function using for-loops"
      ],
      "metadata": {
        "id": "b7tr_xs932_c"
      }
    },
    {
      "cell_type": "code",
      "source": [
        "def stochastic_gradient_descent_for_loops(images, labels):\n",
        "    weights, biases = weights_and_biases_generator()\n",
        "    accuracy = 0\n",
        "    costs = []\n",
        "    learning_rate = 0.3\n",
        "    epoch = 10\n",
        "    batch_size = 16\n",
        "    for q in range(epoch):\n",
        "        correct = 0\n",
        "        incorrect = 0\n",
        "        sum_cost = 0\n",
        "        seed = int(random.random() * 100000000)\n",
        "        images = reproducible_random(seed, images)\n",
        "        labels = reproducible_random(seed, labels)\n",
        "        batch_datas = [images[k:k + batch_size] for k in range(0, len(images), batch_size)]\n",
        "        batch_labels = [labels[k:k + batch_size] for k in range(0, len(images), batch_size)]\n",
        "\n",
        "        for batch_data, batch_label in zip(batch_datas, batch_labels):\n",
        "            grad_w, grad_b = zeros_generator()\n",
        "            for image, label in zip(batch_data, batch_label):\n",
        "                dw, db = zeros_generator()\n",
        "                z, activation = feed_forward(image, weights, biases)\n",
        "                sum_cost += squared_error(activation[-1], label)\n",
        "                predicted_label = np.argmax(activation[-1][:, 0])\n",
        "                correct_label = np.argmax(label)\n",
        "                if predicted_label == correct_label:\n",
        "                    correct += 1\n",
        "                else:\n",
        "                    incorrect += 1\n",
        "\n",
        "                delta = derivative_squared_error(activation[-1], label) * sigmoid_prime(z[-1])\n",
        "                db[2] = delta\n",
        "                res = []\n",
        "                for w in range(len(delta)):\n",
        "                    row = []\n",
        "                    for e in range(len(np.transpose(activation[2])[0])):\n",
        "                        product = 0\n",
        "                        for r in range(len(delta[w])):\n",
        "                            product += delta[w][r] * np.transpose(activation[2])[r][e]\n",
        "                        row.append(product)\n",
        "                    res.append(row)\n",
        "                dw[2] = res\n",
        "                delta = (np.transpose(weights[2]) @ delta) * sigmoid_prime(z[-2])\n",
        "                db[1] = delta\n",
        "\n",
        "                res = []\n",
        "                for w in range(len(delta)):\n",
        "                    row = []\n",
        "                    for e in range(len(np.transpose(activation[1])[0])):\n",
        "                        product = 0\n",
        "                        for r in range(len(delta[w])):\n",
        "                            product += delta[w][r] * np.transpose(activation[1])[r][e]\n",
        "                        row.append(product)\n",
        "                    res.append(row)\n",
        "                dw[1] = res\n",
        "                delta = (np.transpose(weights[1]) @ delta) * sigmoid_prime(z[-3])\n",
        "                db[0] = delta\n",
        "                res = []\n",
        "                for w in range(len(delta)):\n",
        "                    row = []\n",
        "                    for e in range(len(np.transpose(activation[0])[0])):\n",
        "                        product = 0\n",
        "                        for r in range(len(delta[w])):\n",
        "                            product += delta[w][r] * np.transpose(activation[0])[r][e]\n",
        "                        row.append(product)\n",
        "                    res.append(row)\n",
        "                dw[0] = res\n",
        "\n",
        "                for i in range(3):\n",
        "                    grad_w[i] += dw[i]\n",
        "                    grad_b[i] += db[i]\n",
        "            for j in range(3):\n",
        "                weights[j] -= (learning_rate * (grad_w[j] / len(batch_data)))\n",
        "                biases[j] -= (learning_rate * (grad_b[j] / len(batch_data)))\n",
        "        costs.append(sum_cost)\n",
        "        accuracy += correct / (correct + incorrect)\n",
        "    return costs, accuracy / 10"
      ],
      "metadata": {
        "id": "ytG5c7dw3f5X"
      },
      "execution_count": 16,
      "outputs": []
    },
    {
      "cell_type": "code",
      "source": [
        "start_time = time.time()\n",
        "costs = np.zeros((1, 10))\n",
        "this_cost, this_accuracy = stochastic_gradient_descent_for_loops(train_images[:200], train_labels[:200])\n",
        "costs += this_cost\n",
        "print(\"Executed time:\")\n",
        "print(time.time() - start_time)\n",
        "print(\"Average accuracy: \")\n",
        "print(this_accuracy)\n",
        "costs /= 200\n",
        "create_plot(costs[0])"
      ],
      "metadata": {
        "colab": {
          "base_uri": "https://localhost:8080/",
          "height": 334
        },
        "id": "FVMXJnBEi6vD",
        "outputId": "2600d498-c8ba-4c8d-b883-903923189506"
      },
      "execution_count": 18,
      "outputs": [
        {
          "output_type": "stream",
          "name": "stdout",
          "text": [
            "Executed time:\n",
            "184.90154361724854\n",
            "Average accuracy: \n",
            "0.2715\n"
          ]
        },
        {
          "output_type": "display_data",
          "data": {
            "text/plain": [
              "<Figure size 432x288 with 1 Axes>"
            ],
            "image/png": "[encoded data removed]"
          },
          "metadata": {
            "needs_background": "light"
          }
        }
      ]
    },
    {
      "cell_type": "markdown",
      "source": [
        "# **Fourth Step: Vectorized SGD Function**"
      ],
      "metadata": {
        "id": "cXrM-6IDVaMs"
      }
    },
    {
      "cell_type": "code",
      "source": [
        "def stochastic_gradient_descent(images, labels):\n",
        "    weights, biases = weights_and_biases_generator()\n",
        "    accuracy = 0\n",
        "    costs = []\n",
        "    learning_rate = 0.3\n",
        "    epoch = 20\n",
        "    batch_size = 16\n",
        "    for q in range(epoch):\n",
        "        correct = 0\n",
        "        incorrect = 0\n",
        "        sum_cost = 0\n",
        "        seed = int(random.random() * 100000000)\n",
        "        images = reproducible_random(seed, images)\n",
        "        labels = reproducible_random(seed, labels)\n",
        "        batch_datas = [images[k:k + batch_size] for k in range(0, len(images), batch_size)]\n",
        "        batch_labels = [labels[k:k + batch_size] for k in range(0, len(images), batch_size)]\n",
        "\n",
        "        for batch_data, batch_label in zip(batch_datas, batch_labels):\n",
        "            grad_w, grad_b = zeros_generator()\n",
        "            for image, label in zip(batch_data, batch_label):\n",
        "                dw, db = zeros_generator()\n",
        "                z, activation = feed_forward(image, weights, biases)\n",
        "                sum_cost += squared_error(activation[-1], label)\n",
        "                predicted_label = np.argmax(activation[-1][:, 0])\n",
        "                correct_label = np.argmax(label)\n",
        "                if predicted_label == correct_label:\n",
        "                    correct += 1\n",
        "                else:\n",
        "                    incorrect += 1\n",
        "\n",
        "                delta = derivative_squared_error(activation[-1], label) * sigmoid_prime(z[-1])\n",
        "                db[2] = delta\n",
        "                dw[2] = (delta @ np.transpose(activation[2]))\n",
        "                delta = (np.transpose(weights[2]) @ delta) * sigmoid_prime(z[-2])\n",
        "                db[1] = delta\n",
        "                dw[1] = (delta @ np.transpose(activation[1]))\n",
        "                delta = (np.transpose(weights[1]) @ delta) * sigmoid_prime(z[-3])\n",
        "                db[0] = delta\n",
        "                dw[0] = (delta @ np.transpose(activation[0]))\n",
        "\n",
        "                for i in range(3):\n",
        "                    grad_w[i] += dw[i]\n",
        "                    grad_b[i] += db[i]\n",
        "            for j in range(3):\n",
        "                weights[j] -= (learning_rate * (grad_w[j] / len(batch_data)))\n",
        "                biases[j] -= (learning_rate * (grad_b[j] / len(batch_data)))\n",
        "        costs.append(sum_cost)\n",
        "        accuracy += correct/(correct+incorrect)\n",
        "    return costs, accuracy/20"
      ],
      "metadata": {
        "id": "JMilRxBnT9Ni"
      },
      "execution_count": 8,
      "outputs": []
    },
    {
      "cell_type": "code",
      "source": [
        "start_time = time.time()\n",
        "costs = np.zeros((1, 20))\n",
        "accuracy = 0\n",
        "for i in range(10):\n",
        "    this_cost, this_accuracy = stochastic_gradient_descent(train_images[:200], train_labels[:200])\n",
        "    costs += this_cost\n",
        "    accuracy += this_accuracy\n",
        "print(\"Average executed time:\")\n",
        "print((time.time() - start_time)/10)\n",
        "print(\"Average accuracy: \")\n",
        "print(accuracy/10)\n",
        "costs /= 2000\n",
        "create_plot(costs[0])"
      ],
      "metadata": {
        "colab": {
          "base_uri": "https://localhost:8080/",
          "height": 334
        },
        "id": "SYzoHjN4aI-w",
        "outputId": "e6e21632-8a45-4efb-8a22-25982791fbb9"
      },
      "execution_count": 13,
      "outputs": [
        {
          "output_type": "stream",
          "name": "stdout",
          "text": [
            "Average executed time:\n",
            "1.534672451019287\n",
            "Average accuracy: \n",
            "0.3746\n"
          ]
        },
        {
          "output_type": "display_data",
          "data": {
            "text/plain": [
              "<Figure size 432x288 with 1 Axes>"
            ],
            "image/png": "[encoded data removed]"
          },
          "metadata": {
            "needs_background": "light"
          }
        }
      ]
    },
    {
      "cell_type": "markdown",
      "source": [
        "# **Final Step: Testing**"
      ],
      "metadata": {
        "id": "--GUmiwNVg9w"
      }
    },
    {
      "cell_type": "code",
      "source": [
        "def stochastic_gradient_descent_final(images, labels, weights, biases):\n",
        "    accuracy = 0\n",
        "    costs = []\n",
        "    learning_rate = 0.3\n",
        "    epoch = 40\n",
        "    batch_size = 16\n",
        "    for q in range(epoch):\n",
        "        correct = 0\n",
        "        incorrect = 0\n",
        "        sum_cost = 0\n",
        "        seed = int(random.random() * 100000000)\n",
        "        images = reproducible_random(seed, images)\n",
        "        labels = reproducible_random(seed, labels)\n",
        "        batch_datas = [images[k:k + batch_size] for k in range(0, len(images), batch_size)]\n",
        "        batch_labels = [labels[k:k + batch_size] for k in range(0, len(images), batch_size)]\n",
        "\n",
        "        for batch_data, batch_label in zip(batch_datas, batch_labels):\n",
        "            grad_w, grad_b = zeros_generator()\n",
        "            for image, label in zip(batch_data, batch_label):\n",
        "                dw, db = zeros_generator()\n",
        "                z, activation = feed_forward(image, weights, biases)\n",
        "                sum_cost += squared_error(activation[-1], label)\n",
        "                predicted_label = np.argmax(activation[-1][:, 0])\n",
        "                correct_label = np.argmax(label)\n",
        "                if predicted_label == correct_label:\n",
        "                    correct += 1\n",
        "                else:\n",
        "                    incorrect += 1\n",
        "\n",
        "                delta = derivative_squared_error(activation[-1], label) * sigmoid_prime(z[-1])\n",
        "                db[2] = delta\n",
        "                dw[2] = (delta @ np.transpose(activation[2]))\n",
        "                delta = (np.transpose(weights[2]) @ delta) * sigmoid_prime(z[-2])\n",
        "                db[1] = delta\n",
        "                dw[1] = (delta @ np.transpose(activation[1]))\n",
        "                delta = (np.transpose(weights[1]) @ delta) * sigmoid_prime(z[-3])\n",
        "                db[0] = delta\n",
        "                dw[0] = (delta @ np.transpose(activation[0]))\n",
        "\n",
        "                for i in range(3):\n",
        "                    grad_w[i] += dw[i]\n",
        "                    grad_b[i] += db[i]\n",
        "            for j in range(3):\n",
        "                weights[j] -= (learning_rate * (grad_w[j] / len(batch_data)))\n",
        "                biases[j] -= (learning_rate * (grad_b[j] / len(batch_data)))\n",
        "        costs.append(sum_cost)\n",
        "        accuracy += correct/(correct+incorrect)\n",
        "    return costs, accuracy/40, weights, biases"
      ],
      "metadata": {
        "id": "nPsToly6Voou"
      },
      "execution_count": 19,
      "outputs": []
    },
    {
      "cell_type": "code",
      "source": [
        "costs = np.zeros((1, 40))\n",
        "train_accuracy = 0\n",
        "test_accuracy = 0\n",
        "for i in range(10):\n",
        "    weights, biases = weights_and_biases_generator()\n",
        "    this_cost, this_accuracy, train_weights, train_biases = stochastic_gradient_descent_final(train_images[:200], train_labels[:200], weights, biases)\n",
        "    costs += this_cost\n",
        "    train_accuracy += this_accuracy\n",
        "\n",
        "    this_cost, this_accuracy, trash, trash2 = stochastic_gradient_descent_final(test_images, test_labels, train_weights, train_biases)\n",
        "    costs += this_cost\n",
        "    test_accuracy += this_accuracy\n",
        "\n",
        "print(\"Average train accuracy: \")\n",
        "print(train_accuracy/10)\n",
        "print(\"Average test accuracy: \")\n",
        "print(test_accuracy/10)\n",
        "costs /= (2000 + 80000)\n",
        "create_plot(costs[0])"
      ],
      "metadata": {
        "colab": {
          "base_uri": "https://localhost:8080/",
          "height": 334
        },
        "id": "fqTxtwfUm_84",
        "outputId": "8ef64815-eb0f-4ab5-98b5-e4846dc0c061"
      },
      "execution_count": 21,
      "outputs": [
        {
          "output_type": "stream",
          "name": "stdout",
          "text": [
            "Average train accuracy: \n",
            "0.40785\n",
            "Average test accuracy: \n",
            "0.5251693749999999\n"
          ]
        },
        {
          "output_type": "display_data",
          "data": {
            "text/plain": [
              "<Figure size 432x288 with 1 Axes>"
            ],
            "image/png": "[encoded data removed]"
          },
          "metadata": {
            "needs_background": "light"
          }
        }
      ]
    },
    {
      "cell_type": "markdown",
      "source": [
        "# **Extras: CNN**"
      ],
      "metadata": {
        "id": "UB6z9jt5VpBR"
      }
    },
    {
      "cell_type": "markdown",
      "source": [
        "First we import the libraries that we need"
      ],
      "metadata": {
        "id": "VX3KPcOYr8V2"
      }
    },
    {
      "cell_type": "code",
      "source": [
        "from tensorflow import keras\n",
        "from tensorflow.keras import datasets, layers, losses\n",
        "import numpy as np\n",
        "import matplotlib.pyplot as plt\n",
        "from sklearn.metrics import confusion_matrix"
      ],
      "metadata": {
        "id": "bG4X_oC6V-kt"
      },
      "execution_count": 61,
      "outputs": []
    },
    {
      "cell_type": "markdown",
      "source": [
        "Loading the dataset"
      ],
      "metadata": {
        "id": "WwizuQb4sZqv"
      }
    },
    {
      "cell_type": "code",
      "source": [
        "(train_images, train_labels), (test_images, test_labels) = datasets.cifar10.load_data()\n",
        "train_images, test_images = train_images / 255.0, test_images / 255.0\n",
        "class_names = [\"airplane\", \"automobile\", \"cat\", \"deer\", \"dog\", \"frog\", \"horse\", \"ship\", \"truck\"]"
      ],
      "metadata": {
        "id": "5cAqbZTBsTTN"
      },
      "execution_count": 44,
      "outputs": []
    },
    {
      "cell_type": "code",
      "source": [
        "model = keras.Sequential([\n",
        "    layers.Conv2D(32, (3, 3), padding = 'same', kernel_initializer='he_uniform', activation='relu', input_shape=(32, 32, 3)),\n",
        "    layers.Conv2D(32, (3, 3), padding = 'same', kernel_initializer='he_uniform', activation='relu'),\n",
        "    layers.MaxPool2D((2,2)),\n",
        "\n",
        "    layers.Conv2D(64, (3, 3), padding = 'same', kernel_initializer='he_uniform', activation='relu'),\n",
        "    layers.Conv2D(64, (3, 3), padding = 'same', kernel_initializer='he_uniform', activation='relu'),\n",
        "    layers.MaxPool2D((2,2)),\n",
        "    \n",
        "    layers.Conv2D(128, (3, 3), padding = 'same', kernel_initializer='he_uniform', activation='relu'),\n",
        "    layers.Conv2D(128, (3, 3), padding = 'same', kernel_initializer='he_uniform', activation='relu'),\n",
        "    layers.MaxPool2D((2,2)),\n",
        "\n",
        "    layers.Conv2D(128, (3, 3), padding = 'same', kernel_initializer='he_uniform', activation='relu'),\n",
        "    layers.Conv2D(128, (3, 3), padding = 'same', kernel_initializer='he_uniform', activation='relu'),\n",
        "    layers.MaxPool2D((2,2)),\n",
        "\n",
        "    layers.Flatten(),\n",
        "    layers.Dense(128, kernel_initializer='he_uniform', activation='relu'),\n",
        "    layers.Dense(10, kernel_initializer='he_uniform', activation='softmax'),\n",
        "    ])"
      ],
      "metadata": {
        "id": "e1WC6GRTsvAH"
      },
      "execution_count": 45,
      "outputs": []
    },
    {
      "cell_type": "code",
      "source": [
        "model.compile(loss=losses.SparseCategoricalCrossentropy(), metrics=['accuracy'])"
      ],
      "metadata": {
        "id": "UGhZJrdTv88b"
      },
      "execution_count": 46,
      "outputs": []
    },
    {
      "cell_type": "code",
      "source": [
        "history = model.fit(train_images, train_labels, batch_size=50, epochs=10, validation_data=(test_images, test_labels))"
      ],
      "metadata": {
        "colab": {
          "base_uri": "https://localhost:8080/"
        },
        "id": "Jev-wtw3wll0",
        "outputId": "bc747e7c-b5d4-49c3-e94f-605743256b02"
      },
      "execution_count": 47,
      "outputs": [
        {
          "output_type": "stream",
          "name": "stdout",
          "text": [
            "Epoch 1/10\n",
            "1000/1000 [==============================] - 33s 31ms/step - loss: 1.6204 - accuracy: 0.4098 - val_loss: 1.1599 - val_accuracy: 0.5854\n",
            "Epoch 2/10\n",
            "1000/1000 [==============================] - 27s 27ms/step - loss: 1.0445 - accuracy: 0.6297 - val_loss: 0.9541 - val_accuracy: 0.6723\n",
            "Epoch 3/10\n",
            "1000/1000 [==============================] - 27s 27ms/step - loss: 0.8258 - accuracy: 0.7145 - val_loss: 0.9668 - val_accuracy: 0.6786\n",
            "Epoch 4/10\n",
            "1000/1000 [==============================] - 28s 28ms/step - loss: 0.7024 - accuracy: 0.7585 - val_loss: 0.7985 - val_accuracy: 0.7336\n",
            "Epoch 5/10\n",
            "1000/1000 [==============================] - 28s 28ms/step - loss: 0.6230 - accuracy: 0.7878 - val_loss: 0.8346 - val_accuracy: 0.7219\n",
            "Epoch 6/10\n",
            "1000/1000 [==============================] - 27s 27ms/step - loss: 0.5770 - accuracy: 0.8048 - val_loss: 0.7353 - val_accuracy: 0.7551\n",
            "Epoch 7/10\n",
            "1000/1000 [==============================] - 27s 27ms/step - loss: 0.5459 - accuracy: 0.8169 - val_loss: 0.7461 - val_accuracy: 0.7729\n",
            "Epoch 8/10\n",
            "1000/1000 [==============================] - 28s 28ms/step - loss: 0.5332 - accuracy: 0.8236 - val_loss: 0.8804 - val_accuracy: 0.7398\n",
            "Epoch 9/10\n",
            "1000/1000 [==============================] - 28s 28ms/step - loss: 0.5220 - accuracy: 0.8312 - val_loss: 0.7378 - val_accuracy: 0.7542\n",
            "Epoch 10/10\n",
            "1000/1000 [==============================] - 27s 27ms/step - loss: 0.5214 - accuracy: 0.8316 - val_loss: 0.9119 - val_accuracy: 0.7003\n"
          ]
        }
      ]
    },
    {
      "cell_type": "code",
      "source": [
        "plt.plot(history.history['accuracy'], label='accuracy')\n",
        "plt.legend(loc='lower right')"
      ],
      "metadata": {
        "colab": {
          "base_uri": "https://localhost:8080/",
          "height": 282
        },
        "id": "rc8MnLIzxPFW",
        "outputId": "4de6c51e-7e0d-452c-cc0d-9d2fcf77dc72"
      },
      "execution_count": 48,
      "outputs": [
        {
          "output_type": "execute_result",
          "data": {
            "text/plain": [
              "<matplotlib.legend.Legend at 0x7f2ddf6ef550>"
            ]
          },
          "metadata": {},
          "execution_count": 48
        },
        {
          "output_type": "display_data",
          "data": {
            "text/plain": [
              "<Figure size 432x288 with 1 Axes>"
            ],
            "image/png": "[encoded data removed]"
          },
          "metadata": {
            "needs_background": "light"
          }
        }
      ]
    },
    {
      "cell_type": "code",
      "source": [
        "plt.plot(history.history['val_loss'], label='validation loss')"
      ],
      "metadata": {
        "colab": {
          "base_uri": "https://localhost:8080/",
          "height": 282
        },
        "id": "d7_BL-qQ7Y_t",
        "outputId": "e397ff2d-7261-4347-9d44-647b638ba585"
      },
      "execution_count": 49,
      "outputs": [
        {
          "output_type": "execute_result",
          "data": {
            "text/plain": [
              "[<matplotlib.lines.Line2D at 0x7f2de0e73b10>]"
            ]
          },
          "metadata": {},
          "execution_count": 49
        },
        {
          "output_type": "display_data",
          "data": {
            "text/plain": [
              "<Figure size 432x288 with 1 Axes>"
            ],
            "image/png": "[encoded data removed]"
          },
          "metadata": {
            "needs_background": "light"
          }
        }
      ]
    },
    {
      "cell_type": "code",
      "source": [
        "# confusion matrix"
      ],
      "metadata": {
        "id": "jU5czm8h7dUj"
      },
      "execution_count": null,
      "outputs": []
    },
    {
      "cell_type": "markdown",
      "source": [
        "Batch normalization is a technique for training very deep neural networks that standardizes the inputs to a layer for each mini-batch. This has the effect of stabilizing the learning process and dramatically reducing the number of training epochs required to train deep networks."
      ],
      "metadata": {
        "id": "I_wveQqx23rU"
      }
    },
    {
      "cell_type": "code",
      "source": [
        "model1 = keras.Sequential([\n",
        "    layers.Conv2D(32, (3, 3), padding = 'same', kernel_initializer='he_uniform', activation='relu', input_shape=(32, 32, 3)),\n",
        "    layers.Conv2D(32, (3, 3), padding = 'same', kernel_initializer='he_uniform', activation='relu'),\n",
        "    layers.BatchNormalization(),\n",
        "    layers.MaxPool2D((2,2)),\n",
        "\n",
        "    layers.Conv2D(64, (3, 3), padding = 'same', kernel_initializer='he_uniform', activation='relu'),\n",
        "    layers.Conv2D(64, (3, 3), padding = 'same', kernel_initializer='he_uniform', activation='relu'),\n",
        "    layers.BatchNormalization(),\n",
        "    layers.MaxPool2D((2,2)),\n",
        "    \n",
        "    layers.Conv2D(128, (3, 3), padding = 'same', kernel_initializer='he_uniform', activation='relu'),\n",
        "    layers.Conv2D(128, (3, 3), padding = 'same', kernel_initializer='he_uniform', activation='relu'),\n",
        "    layers.BatchNormalization(),\n",
        "    layers.MaxPool2D((2,2)),\n",
        "\n",
        "    layers.Conv2D(128, (3, 3), padding = 'same', kernel_initializer='he_uniform', activation='relu'),\n",
        "    layers.Conv2D(128, (3, 3), padding = 'same', kernel_initializer='he_uniform', activation='relu'),\n",
        "    layers.BatchNormalization(),\n",
        "    layers.MaxPool2D((2,2)),\n",
        "\n",
        "    layers.Flatten(),\n",
        "    layers.Dense(128, kernel_initializer='he_uniform', activation='relu'),\n",
        "    layers.Dense(10, kernel_initializer='he_uniform', activation='softmax'),\n",
        "    ])\n"
      ],
      "metadata": {
        "id": "Ku1KnyA_x_h0"
      },
      "execution_count": 64,
      "outputs": []
    },
    {
      "cell_type": "code",
      "source": [
        "model1.compile(loss=losses.SparseCategoricalCrossentropy(), metrics=['accuracy'])"
      ],
      "metadata": {
        "id": "Mcbdv-3SCpfk"
      },
      "execution_count": 67,
      "outputs": []
    },
    {
      "cell_type": "code",
      "source": [
        "history = model1.fit(train_images, train_labels, batch_size=50, epochs=10, validation_data=(test_images, test_labels))"
      ],
      "metadata": {
        "colab": {
          "base_uri": "https://localhost:8080/"
        },
        "id": "CFnKTuYFCqem",
        "outputId": "33834db4-bcea-4ec4-8731-5da768ef606e"
      },
      "execution_count": 68,
      "outputs": [
        {
          "output_type": "stream",
          "name": "stdout",
          "text": [
            "Epoch 1/10\n",
            "1000/1000 [==============================] - 44s 42ms/step - loss: 1.3281 - accuracy: 0.5286 - val_loss: 1.0411 - val_accuracy: 0.6350\n",
            "Epoch 2/10\n",
            "1000/1000 [==============================] - 30s 30ms/step - loss: 0.8175 - accuracy: 0.7154 - val_loss: 0.8020 - val_accuracy: 0.7217\n",
            "Epoch 3/10\n",
            "1000/1000 [==============================] - 30s 30ms/step - loss: 0.6405 - accuracy: 0.7786 - val_loss: 1.0243 - val_accuracy: 0.6882\n",
            "Epoch 4/10\n",
            "1000/1000 [==============================] - 30s 30ms/step - loss: 0.5183 - accuracy: 0.8207 - val_loss: 0.7041 - val_accuracy: 0.7720\n",
            "Epoch 5/10\n",
            "1000/1000 [==============================] - 30s 30ms/step - loss: 0.4299 - accuracy: 0.8531 - val_loss: 0.8210 - val_accuracy: 0.7500\n",
            "Epoch 6/10\n",
            "1000/1000 [==============================] - 30s 30ms/step - loss: 0.3532 - accuracy: 0.8781 - val_loss: 0.7162 - val_accuracy: 0.7809\n",
            "Epoch 7/10\n",
            "1000/1000 [==============================] - 30s 30ms/step - loss: 0.2913 - accuracy: 0.9023 - val_loss: 0.7684 - val_accuracy: 0.7863\n",
            "Epoch 8/10\n",
            "1000/1000 [==============================] - 30s 30ms/step - loss: 0.2428 - accuracy: 0.9180 - val_loss: 0.7929 - val_accuracy: 0.7887\n",
            "Epoch 9/10\n",
            "1000/1000 [==============================] - 30s 30ms/step - loss: 0.2051 - accuracy: 0.9300 - val_loss: 0.8949 - val_accuracy: 0.7910\n",
            "Epoch 10/10\n",
            "1000/1000 [==============================] - 30s 30ms/step - loss: 0.1784 - accuracy: 0.9405 - val_loss: 0.8577 - val_accuracy: 0.7918\n"
          ]
        }
      ]
    },
    {
      "cell_type": "code",
      "source": [
        "plt.plot(history.history['accuracy'], label='accuracy')\n",
        "plt.legend(loc='lower right')"
      ],
      "metadata": {
        "colab": {
          "base_uri": "https://localhost:8080/",
          "height": 282
        },
        "id": "AeA1LMUDCvmq",
        "outputId": "fcdcbac5-6fee-4295-ac06-4df782ce2773"
      },
      "execution_count": 72,
      "outputs": [
        {
          "output_type": "execute_result",
          "data": {
            "text/plain": [
              "<matplotlib.legend.Legend at 0x7f2ddf5d2550>"
            ]
          },
          "metadata": {},
          "execution_count": 72
        },
        {
          "output_type": "display_data",
          "data": {
            "text/plain": [
              "<Figure size 432x288 with 1 Axes>"
            ],
            "image/png": "[encoded data removed]"
          },
          "metadata": {
            "needs_background": "light"
          }
        }
      ]
    },
    {
      "cell_type": "code",
      "source": [
        "plt.plot(history.history['val_loss'], label='validation loss')"
      ],
      "metadata": {
        "colab": {
          "base_uri": "https://localhost:8080/",
          "height": 282
        },
        "id": "EltSxa2pCv0g",
        "outputId": "15d69e27-d286-4030-97de-adf425e1eb54"
      },
      "execution_count": 73,
      "outputs": [
        {
          "output_type": "execute_result",
          "data": {
            "text/plain": [
              "[<matplotlib.lines.Line2D at 0x7f2d67b72490>]"
            ]
          },
          "metadata": {},
          "execution_count": 73
        },
        {
          "output_type": "display_data",
          "data": {
            "text/plain": [
              "<Figure size 432x288 with 1 Axes>"
            ],
            "image/png": "[encoded data removed]"
          },
          "metadata": {
            "needs_background": "light"
          }
        }
      ]
    },
    {
      "cell_type": "code",
      "source": [
        "# confusion matrix"
      ],
      "metadata": {
        "id": "rS0S4FHBCwLm"
      },
      "execution_count": null,
      "outputs": []
    },
    {
      "cell_type": "markdown",
      "source": [
        "The Dropout layer randomly sets input units to 0 with a frequency of rate at each step during training time, which helps prevent overfitting. Inputs not set to 0 are scaled up by 1"
      ],
      "metadata": {
        "id": "bOlK1dEU3GjX"
      }
    },
    {
      "cell_type": "code",
      "source": [
        "model2 = keras.Sequential([\n",
        "    layers.Conv2D(32, (3, 3), padding = 'same', kernel_initializer='he_uniform', activation='relu', input_shape=(32, 32, 3)),\n",
        "    layers.Conv2D(32, (3, 3), padding = 'same', kernel_initializer='he_uniform', activation='relu'),\n",
        "    layers.BatchNormalization(),\n",
        "    layers.MaxPool2D((2,2)),\n",
        "    layers.Dropout(0.25),\n",
        "\n",
        "    layers.Conv2D(64, (3, 3), padding = 'same', kernel_initializer='he_uniform', activation='relu'),\n",
        "    layers.Conv2D(64, (3, 3), padding = 'same', kernel_initializer='he_uniform', activation='relu'),\n",
        "    layers.BatchNormalization(),\n",
        "    layers.MaxPool2D((2,2)),\n",
        "    layers.Dropout(0.25),\n",
        "    \n",
        "    layers.Conv2D(128, (3, 3), padding = 'same', kernel_initializer='he_uniform', activation='relu'),\n",
        "    layers.Conv2D(128, (3, 3), padding = 'same', kernel_initializer='he_uniform', activation='relu'),\n",
        "    layers.BatchNormalization(),\n",
        "    layers.MaxPool2D((2,2)),\n",
        "    layers.Dropout(0.25),\n",
        "\n",
        "    layers.Conv2D(128, (3, 3), padding = 'same', kernel_initializer='he_uniform', activation='relu'),\n",
        "    layers.Conv2D(128, (3, 3), padding = 'same', kernel_initializer='he_uniform', activation='relu'),\n",
        "    layers.BatchNormalization(),\n",
        "    layers.MaxPool2D((2,2)),\n",
        "    layers.Dropout(0.25),\n",
        "\n",
        "    layers.Flatten(),\n",
        "    layers.Dense(128, kernel_initializer='he_uniform', activation='relu'),\n",
        "    layers.Dense(10, kernel_initializer='he_uniform', activation='softmax'),\n",
        "    ])\n"
      ],
      "metadata": {
        "id": "pXya96UP3Xit"
      },
      "execution_count": 74,
      "outputs": []
    },
    {
      "cell_type": "code",
      "source": [
        "model2.compile(loss=losses.SparseCategoricalCrossentropy(), metrics=['accuracy'])"
      ],
      "metadata": {
        "id": "ur1fveoIDTbH"
      },
      "execution_count": 75,
      "outputs": []
    },
    {
      "cell_type": "code",
      "source": [
        "history = model2.fit(train_images, train_labels, batch_size=50, epochs=10, validation_data=(test_images, test_labels))"
      ],
      "metadata": {
        "colab": {
          "base_uri": "https://localhost:8080/"
        },
        "id": "LpqtVDv7DUEm",
        "outputId": "6211ece2-bac5-4631-c614-15c775cbff89"
      },
      "execution_count": 76,
      "outputs": [
        {
          "output_type": "stream",
          "name": "stdout",
          "text": [
            "Epoch 1/10\n",
            "1000/1000 [==============================] - 44s 42ms/step - loss: 1.5380 - accuracy: 0.4413 - val_loss: 2.1644 - val_accuracy: 0.3568\n",
            "Epoch 2/10\n",
            "1000/1000 [==============================] - 31s 31ms/step - loss: 1.0560 - accuracy: 0.6242 - val_loss: 1.3188 - val_accuracy: 0.5931\n",
            "Epoch 3/10\n",
            "1000/1000 [==============================] - 31s 31ms/step - loss: 0.8567 - accuracy: 0.7045 - val_loss: 0.9193 - val_accuracy: 0.7007\n",
            "Epoch 4/10\n",
            "1000/1000 [==============================] - 31s 31ms/step - loss: 0.7475 - accuracy: 0.7445 - val_loss: 0.7279 - val_accuracy: 0.7618\n",
            "Epoch 5/10\n",
            "1000/1000 [==============================] - 31s 31ms/step - loss: 0.6722 - accuracy: 0.7692 - val_loss: 0.7289 - val_accuracy: 0.7539\n",
            "Epoch 6/10\n",
            "1000/1000 [==============================] - 31s 31ms/step - loss: 0.6201 - accuracy: 0.7876 - val_loss: 0.7195 - val_accuracy: 0.7689\n",
            "Epoch 7/10\n",
            "1000/1000 [==============================] - 31s 31ms/step - loss: 0.5756 - accuracy: 0.8022 - val_loss: 0.6988 - val_accuracy: 0.7749\n",
            "Epoch 8/10\n",
            "1000/1000 [==============================] - 31s 31ms/step - loss: 0.5333 - accuracy: 0.8187 - val_loss: 0.7138 - val_accuracy: 0.7760\n",
            "Epoch 9/10\n",
            "1000/1000 [==============================] - 31s 31ms/step - loss: 0.5004 - accuracy: 0.8295 - val_loss: 0.6050 - val_accuracy: 0.7994\n",
            "Epoch 10/10\n",
            "1000/1000 [==============================] - 31s 31ms/step - loss: 0.4743 - accuracy: 0.8377 - val_loss: 0.6728 - val_accuracy: 0.7897\n"
          ]
        }
      ]
    },
    {
      "cell_type": "code",
      "source": [
        "plt.plot(history.history['accuracy'], label='accuracy')\n",
        "plt.legend(loc='lower right')"
      ],
      "metadata": {
        "colab": {
          "base_uri": "https://localhost:8080/",
          "height": 283
        },
        "id": "BKQBpEwoFZnS",
        "outputId": "1c5282a0-db85-42f6-de5c-f8281c591c13"
      },
      "execution_count": 77,
      "outputs": [
        {
          "output_type": "execute_result",
          "data": {
            "text/plain": [
              "<matplotlib.legend.Legend at 0x7f2de0afa5d0>"
            ]
          },
          "metadata": {},
          "execution_count": 77
        },
        {
          "output_type": "display_data",
          "data": {
            "text/plain": [
              "<Figure size 432x288 with 1 Axes>"
            ],
            "image/png": "[encoded data removed]"
          },
          "metadata": {
            "needs_background": "light"
          }
        }
      ]
    },
    {
      "cell_type": "code",
      "source": [
        "plt.plot(history.history['val_loss'], label='validation loss')"
      ],
      "metadata": {
        "colab": {
          "base_uri": "https://localhost:8080/",
          "height": 282
        },
        "id": "KYIKzfWoFZ1B",
        "outputId": "c1096cb7-a5fa-4e12-d045-3888446a811b"
      },
      "execution_count": 78,
      "outputs": [
        {
          "output_type": "execute_result",
          "data": {
            "text/plain": [
              "[<matplotlib.lines.Line2D at 0x7f2ddf3cc350>]"
            ]
          },
          "metadata": {},
          "execution_count": 78
        },
        {
          "output_type": "display_data",
          "data": {
            "text/plain": [
              "<Figure size 432x288 with 1 Axes>"
            ],
            "image/png": "[encoded data removed]"
          },
          "metadata": {
            "needs_background": "light"
          }
        }
      ]
    },
    {
      "cell_type": "code",
      "source": [
        "# confusion matrix"
      ],
      "metadata": {
        "id": "Wjm_vAnGFaNV"
      },
      "execution_count": null,
      "outputs": []
    },
    {
      "cell_type": "markdown",
      "source": [
        "we are going to use these 3 optimizers:\\\n",
        " 1-Adam: Adam optimization is a stochastic gradient descent method that is based on adaptive estimation of first-order and second-order moments.\\\n",
        "2-SGD:Stochastic gradient descent (often abbreviated SGD) is an iterative method for optimizing an objective function with suitable smoothness properties.\\\n",
        " 3-adadelta: Adadelta optimizer. Adadelta is a more robust extension of Adagrad that adapts learning rates based on a moving window of gradient updates, instead of accumulating all past gradients. This way, Adadelta continues learning even when many updates have been done."
      ],
      "metadata": {
        "id": "8Sh44j_q3X4J"
      }
    },
    {
      "cell_type": "code",
      "source": [
        "model2.compile(optimizer='adam', loss=losses.SparseCategoricalCrossentropy(), metrics=['accuracy'])"
      ],
      "metadata": {
        "id": "EcTt4gk2Cxhj"
      },
      "execution_count": 80,
      "outputs": []
    },
    {
      "cell_type": "code",
      "source": [
        "history = model2.fit(train_images, train_labels, batch_size=50, epochs=10, validation_data=(test_images, test_labels))"
      ],
      "metadata": {
        "colab": {
          "base_uri": "https://localhost:8080/"
        },
        "id": "-Uh5W-I6Dsyy",
        "outputId": "806b6c6d-b600-4f92-a292-a0b8d104d4e8"
      },
      "execution_count": 81,
      "outputs": [
        {
          "output_type": "stream",
          "name": "stdout",
          "text": [
            "Epoch 1/10\n",
            "1000/1000 [==============================] - 27s 26ms/step - loss: 0.4394 - accuracy: 0.8484 - val_loss: 0.7353 - val_accuracy: 0.7773\n",
            "Epoch 2/10\n",
            "1000/1000 [==============================] - 25s 25ms/step - loss: 0.4064 - accuracy: 0.8589 - val_loss: 0.5826 - val_accuracy: 0.8039\n",
            "Epoch 3/10\n",
            "1000/1000 [==============================] - 25s 25ms/step - loss: 0.3769 - accuracy: 0.8677 - val_loss: 0.5036 - val_accuracy: 0.8337\n",
            "Epoch 4/10\n",
            "1000/1000 [==============================] - 25s 25ms/step - loss: 0.3567 - accuracy: 0.8752 - val_loss: 0.5501 - val_accuracy: 0.8175\n",
            "Epoch 5/10\n",
            "1000/1000 [==============================] - 25s 25ms/step - loss: 0.3334 - accuracy: 0.8823 - val_loss: 0.5104 - val_accuracy: 0.8333\n",
            "Epoch 6/10\n",
            "1000/1000 [==============================] - 25s 25ms/step - loss: 0.3164 - accuracy: 0.8873 - val_loss: 0.6270 - val_accuracy: 0.8021\n",
            "Epoch 7/10\n",
            "1000/1000 [==============================] - 25s 25ms/step - loss: 0.2994 - accuracy: 0.8948 - val_loss: 0.5422 - val_accuracy: 0.8284\n",
            "Epoch 8/10\n",
            "1000/1000 [==============================] - 25s 25ms/step - loss: 0.2873 - accuracy: 0.8982 - val_loss: 0.5782 - val_accuracy: 0.8243\n",
            "Epoch 9/10\n",
            "1000/1000 [==============================] - 26s 26ms/step - loss: 0.2676 - accuracy: 0.9054 - val_loss: 0.5496 - val_accuracy: 0.8369\n",
            "Epoch 10/10\n",
            "1000/1000 [==============================] - 27s 27ms/step - loss: 0.2556 - accuracy: 0.9088 - val_loss: 0.5595 - val_accuracy: 0.8355\n"
          ]
        }
      ]
    },
    {
      "cell_type": "code",
      "source": [
        "plt.plot(history.history['accuracy'], label='accuracy')\n",
        "plt.legend(loc='lower right')"
      ],
      "metadata": {
        "colab": {
          "base_uri": "https://localhost:8080/",
          "height": 282
        },
        "id": "-qr6y5jxD1AH",
        "outputId": "9ecf075a-63bc-48b4-f1cc-27390072bd6a"
      },
      "execution_count": 82,
      "outputs": [
        {
          "output_type": "execute_result",
          "data": {
            "text/plain": [
              "<matplotlib.legend.Legend at 0x7f2ddf0fda10>"
            ]
          },
          "metadata": {},
          "execution_count": 82
        },
        {
          "output_type": "display_data",
          "data": {
            "text/plain": [
              "<Figure size 432x288 with 1 Axes>"
            ],
            "image/png": "[encoded data removed]"
          },
          "metadata": {
            "needs_background": "light"
          }
        }
      ]
    },
    {
      "cell_type": "code",
      "source": [
        "plt.plot(history.history['val_loss'], label='validation loss')"
      ],
      "metadata": {
        "colab": {
          "base_uri": "https://localhost:8080/",
          "height": 282
        },
        "id": "_L08DniJD_Bz",
        "outputId": "8e83858f-b372-4ad1-f14a-5d602573b8b6"
      },
      "execution_count": 83,
      "outputs": [
        {
          "output_type": "execute_result",
          "data": {
            "text/plain": [
              "[<matplotlib.lines.Line2D at 0x7f2ddf028510>]"
            ]
          },
          "metadata": {},
          "execution_count": 83
        },
        {
          "output_type": "display_data",
          "data": {
            "text/plain": [
              "<Figure size 432x288 with 1 Axes>"
            ],
            "image/png": "[encoded data removed]"
          },
          "metadata": {
            "needs_background": "light"
          }
        }
      ]
    },
    {
      "cell_type": "code",
      "source": [
        "# confusion matrix"
      ],
      "metadata": {
        "id": "BQl4dADOEBkk"
      },
      "execution_count": null,
      "outputs": []
    },
    {
      "cell_type": "code",
      "source": [
        "model2.compile(optimizer='SGD', loss=losses.SparseCategoricalCrossentropy(), metrics=['accuracy'])"
      ],
      "metadata": {
        "id": "ZuWHDyB4Cx14"
      },
      "execution_count": 84,
      "outputs": []
    },
    {
      "cell_type": "code",
      "source": [
        "history = model2.fit(train_images, train_labels, batch_size=50, epochs=10, validation_data=(test_images, test_labels))"
      ],
      "metadata": {
        "colab": {
          "base_uri": "https://localhost:8080/"
        },
        "id": "kJZfmpEaDtF6",
        "outputId": "60d05471-85f5-4ed3-d279-8f339d2a3f81"
      },
      "execution_count": 85,
      "outputs": [
        {
          "output_type": "stream",
          "name": "stdout",
          "text": [
            "Epoch 1/10\n",
            "1000/1000 [==============================] - 27s 26ms/step - loss: 0.1892 - accuracy: 0.9326 - val_loss: 0.5169 - val_accuracy: 0.8529\n",
            "Epoch 2/10\n",
            "1000/1000 [==============================] - 26s 26ms/step - loss: 0.1808 - accuracy: 0.9347 - val_loss: 0.5038 - val_accuracy: 0.8551\n",
            "Epoch 3/10\n",
            "1000/1000 [==============================] - 26s 26ms/step - loss: 0.1735 - accuracy: 0.9377 - val_loss: 0.5035 - val_accuracy: 0.8604\n",
            "Epoch 4/10\n",
            "1000/1000 [==============================] - 26s 26ms/step - loss: 0.1684 - accuracy: 0.9401 - val_loss: 0.5123 - val_accuracy: 0.8582\n",
            "Epoch 5/10\n",
            "1000/1000 [==============================] - 28s 28ms/step - loss: 0.1659 - accuracy: 0.9405 - val_loss: 0.5195 - val_accuracy: 0.8569\n",
            "Epoch 6/10\n",
            "1000/1000 [==============================] - 26s 26ms/step - loss: 0.1609 - accuracy: 0.9425 - val_loss: 0.5133 - val_accuracy: 0.8606\n",
            "Epoch 7/10\n",
            "1000/1000 [==============================] - 26s 26ms/step - loss: 0.1579 - accuracy: 0.9430 - val_loss: 0.5264 - val_accuracy: 0.8581\n",
            "Epoch 8/10\n",
            "1000/1000 [==============================] - 27s 27ms/step - loss: 0.1587 - accuracy: 0.9430 - val_loss: 0.5092 - val_accuracy: 0.8630\n",
            "Epoch 9/10\n",
            "1000/1000 [==============================] - 26s 26ms/step - loss: 0.1499 - accuracy: 0.9459 - val_loss: 0.5146 - val_accuracy: 0.8598\n",
            "Epoch 10/10\n",
            "1000/1000 [==============================] - 26s 26ms/step - loss: 0.1509 - accuracy: 0.9455 - val_loss: 0.5169 - val_accuracy: 0.8604\n"
          ]
        }
      ]
    },
    {
      "cell_type": "code",
      "source": [
        "plt.plot(history.history['accuracy'], label='accuracy')\n",
        "plt.legend(loc='lower right')"
      ],
      "metadata": {
        "colab": {
          "base_uri": "https://localhost:8080/",
          "height": 282
        },
        "id": "wjqIfM84D3Vr",
        "outputId": "0c3d553e-aec5-4fa1-e7a6-509a85d95de9"
      },
      "execution_count": 86,
      "outputs": [
        {
          "output_type": "execute_result",
          "data": {
            "text/plain": [
              "<matplotlib.legend.Legend at 0x7f2ddedbed90>"
            ]
          },
          "metadata": {},
          "execution_count": 86
        },
        {
          "output_type": "display_data",
          "data": {
            "text/plain": [
              "<Figure size 432x288 with 1 Axes>"
            ],
            "image/png": "[encoded data removed]"
          },
          "metadata": {
            "needs_background": "light"
          }
        }
      ]
    },
    {
      "cell_type": "code",
      "source": [
        "plt.plot(history.history['val_loss'], label='validation loss')"
      ],
      "metadata": {
        "colab": {
          "base_uri": "https://localhost:8080/",
          "height": 282
        },
        "id": "WxcVt0j1EFvL",
        "outputId": "e344b381-0baf-446a-cdbf-4521aeb4cad9"
      },
      "execution_count": 87,
      "outputs": [
        {
          "output_type": "execute_result",
          "data": {
            "text/plain": [
              "[<matplotlib.lines.Line2D at 0x7f2dded530d0>]"
            ]
          },
          "metadata": {},
          "execution_count": 87
        },
        {
          "output_type": "display_data",
          "data": {
            "text/plain": [
              "<Figure size 432x288 with 1 Axes>"
            ],
            "image/png": "[encoded data removed]"
          },
          "metadata": {
            "needs_background": "light"
          }
        }
      ]
    },
    {
      "cell_type": "code",
      "source": [
        "# confusion matrix"
      ],
      "metadata": {
        "id": "_qrZePmVEGHw"
      },
      "execution_count": null,
      "outputs": []
    },
    {
      "cell_type": "code",
      "source": [
        "model2.compile(optimizer='adadelta', loss=losses.SparseCategoricalCrossentropy(), metrics=['accuracy'])"
      ],
      "metadata": {
        "id": "RaDlJSnLCyB3"
      },
      "execution_count": 88,
      "outputs": []
    },
    {
      "cell_type": "code",
      "source": [
        "history = model2.fit(train_images, train_labels, batch_size=50, epochs=10, validation_data=(test_images, test_labels))"
      ],
      "metadata": {
        "colab": {
          "base_uri": "https://localhost:8080/"
        },
        "id": "uDIcS8lSDtU0",
        "outputId": "5a728a65-ca1c-439e-c956-2119fa3b6a4d"
      },
      "execution_count": 89,
      "outputs": [
        {
          "output_type": "stream",
          "name": "stdout",
          "text": [
            "Epoch 1/10\n",
            "1000/1000 [==============================] - 33s 32ms/step - loss: 0.1450 - accuracy: 0.9480 - val_loss: 0.5088 - val_accuracy: 0.8621\n",
            "Epoch 2/10\n",
            "1000/1000 [==============================] - 29s 29ms/step - loss: 0.1490 - accuracy: 0.9465 - val_loss: 0.5074 - val_accuracy: 0.8631\n",
            "Epoch 3/10\n",
            "1000/1000 [==============================] - 28s 28ms/step - loss: 0.1477 - accuracy: 0.9478 - val_loss: 0.5091 - val_accuracy: 0.8636\n",
            "Epoch 4/10\n",
            "1000/1000 [==============================] - 28s 28ms/step - loss: 0.1488 - accuracy: 0.9461 - val_loss: 0.5098 - val_accuracy: 0.8629\n",
            "Epoch 5/10\n",
            "1000/1000 [==============================] - 28s 28ms/step - loss: 0.1444 - accuracy: 0.9481 - val_loss: 0.5083 - val_accuracy: 0.8630\n",
            "Epoch 6/10\n",
            "1000/1000 [==============================] - 28s 28ms/step - loss: 0.1434 - accuracy: 0.9499 - val_loss: 0.5079 - val_accuracy: 0.8634\n",
            "Epoch 7/10\n",
            "1000/1000 [==============================] - 29s 29ms/step - loss: 0.1448 - accuracy: 0.9478 - val_loss: 0.5078 - val_accuracy: 0.8630\n",
            "Epoch 8/10\n",
            "1000/1000 [==============================] - 28s 28ms/step - loss: 0.1452 - accuracy: 0.9472 - val_loss: 0.5090 - val_accuracy: 0.8636\n",
            "Epoch 9/10\n",
            "1000/1000 [==============================] - 28s 28ms/step - loss: 0.1480 - accuracy: 0.9474 - val_loss: 0.5085 - val_accuracy: 0.8632\n",
            "Epoch 10/10\n",
            "1000/1000 [==============================] - 28s 28ms/step - loss: 0.1429 - accuracy: 0.9481 - val_loss: 0.5080 - val_accuracy: 0.8633\n"
          ]
        }
      ]
    },
    {
      "cell_type": "code",
      "source": [
        "plt.plot(history.history['accuracy'], label='accuracy')\n",
        "plt.legend(loc='lower right')"
      ],
      "metadata": {
        "colab": {
          "base_uri": "https://localhost:8080/",
          "height": 282
        },
        "id": "_tgYIlizD3nv",
        "outputId": "b1b69201-d782-44b8-8818-f2b0e963395a"
      },
      "execution_count": 90,
      "outputs": [
        {
          "output_type": "execute_result",
          "data": {
            "text/plain": [
              "<matplotlib.legend.Legend at 0x7f2d670cefd0>"
            ]
          },
          "metadata": {},
          "execution_count": 90
        },
        {
          "output_type": "display_data",
          "data": {
            "text/plain": [
              "<Figure size 432x288 with 1 Axes>"
            ],
            "image/png": "[encoded data removed]"
          },
          "metadata": {
            "needs_background": "light"
          }
        }
      ]
    },
    {
      "cell_type": "code",
      "source": [
        "plt.plot(history.history['val_loss'], label='validation loss')"
      ],
      "metadata": {
        "colab": {
          "base_uri": "https://localhost:8080/",
          "height": 282
        },
        "id": "4RRCT-GKEIG1",
        "outputId": "c9cef8ce-e5bf-4ceb-b82f-62bc8774ea14"
      },
      "execution_count": 91,
      "outputs": [
        {
          "output_type": "execute_result",
          "data": {
            "text/plain": [
              "[<matplotlib.lines.Line2D at 0x7f2d66feead0>]"
            ]
          },
          "metadata": {},
          "execution_count": 91
        },
        {
          "output_type": "display_data",
          "data": {
            "text/plain": [
              "<Figure size 432x288 with 1 Axes>"
            ],
            "image/png": "[encoded data removed]"
          },
          "metadata": {
            "needs_background": "light"
          }
        }
      ]
    },
    {
      "cell_type": "code",
      "source": [
        "# confusion matrix"
      ],
      "metadata": {
        "id": "6wDXk3v6EIdr"
      },
      "execution_count": null,
      "outputs": []
    },
    {
      "cell_type": "markdown",
      "source": [
        "# **Extras(2): Data Augmentation**"
      ],
      "metadata": {
        "id": "cDOhvNMgV1jK"
      }
    },
    {
      "cell_type": "markdown",
      "source": [
        "Data augmentation is a set of techniques to artificially increase the amount of data by generating new data points from existing data. This includes making small changes to data or using deep learning models to generate new data points.\n",
        "\\\n",
        "Cropping, Adding noise, Flipping, Rotation, Scaling, Translation, Brightness, Contrast, Color augmentation, Saturation\\\n",
        "No. Data augmentation is only used for training."
      ],
      "metadata": {
        "id": "rP2r3XhiJQR9"
      }
    }
  ]
}